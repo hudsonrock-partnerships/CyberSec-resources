{
 "cells": [
  {
   "cell_type": "markdown",
   "id": "rolled-warner",
   "metadata": {},
   "source": [
    "## File Encryption\n",
    "Share the generated key.key with the person who needs to decrypt the file.\n",
    "\n",
    "Source: https://www.thepythoncode.com/article/encrypt-decrypt-files-symmetric-python"
   ]
  },
  {
   "cell_type": "code",
   "execution_count": 1,
   "id": "silent-advertiser",
   "metadata": {},
   "outputs": [],
   "source": [
    "from cryptography.fernet import Fernet\n",
    "\n",
    "def write_key():\n",
    "    \"\"\"\n",
    "    Generates a key and save it into a file\n",
    "    \"\"\"\n",
    "    key = Fernet.generate_key()\n",
    "    with open(\"key.key\", \"wb\") as key_file:\n",
    "        key_file.write(key)\n",
    "        \n",
    "def load_key():\n",
    "    \"\"\"\n",
    "    Loads the key from the current directory named `key.key`\n",
    "    \"\"\"\n",
    "    return open(\"key.key\", \"rb\").read()"
   ]
  },
  {
   "cell_type": "code",
   "execution_count": 2,
   "id": "written-penalty",
   "metadata": {},
   "outputs": [],
   "source": [
    "# Encrypt Function\n",
    "def encrypt(filename, key):\n",
    "    \"\"\"\n",
    "    Given a filename (str) and key (bytes), it encrypts the file and write it\n",
    "    \"\"\"\n",
    "    f = Fernet(key)\n",
    "    \n",
    "    with open(filename, \"rb\") as file:\n",
    "        # read all file data\n",
    "        file_data = file.read()\n",
    "        \n",
    "    # encrypt data\n",
    "    encrypted_data = f.encrypt(file_data)\n",
    "    \n",
    "    # write the encrypted file\n",
    "    with open(filename, \"wb\") as file:\n",
    "        file.write(encrypted_data)"
   ]
  },
  {
   "cell_type": "code",
   "execution_count": 3,
   "id": "small-popularity",
   "metadata": {},
   "outputs": [],
   "source": [
    "# Decrypt Function\n",
    "def decrypt(filename, key):\n",
    "    \"\"\"\n",
    "    Given a filename (str) and key (bytes), it decrypts the file and write it\n",
    "    \"\"\"\n",
    "    f = Fernet(key)\n",
    "    with open(filename, \"rb\") as file:\n",
    "        # read the encrypted data\n",
    "        encrypted_data = file.read()\n",
    "    # decrypt data\n",
    "    decrypted_data = f.decrypt(encrypted_data)\n",
    "    # write the original file\n",
    "    with open(filename, \"wb\") as file:\n",
    "        file.write(decrypted_data)"
   ]
  },
  {
   "cell_type": "code",
   "execution_count": 4,
   "id": "sunrise-brain",
   "metadata": {},
   "outputs": [],
   "source": [
    "# Comment this if you want to use an already existing key\n",
    "write_key()\n",
    "\n",
    "# Load the key\n",
    "key = load_key()\n",
    "\n",
    "# File name\n",
    "file = \"data.txt\"\n",
    "\n",
    "# Encrypt it\n",
    "encrypt(file, key)"
   ]
  },
  {
   "cell_type": "code",
   "execution_count": 5,
   "id": "split-voice",
   "metadata": {},
   "outputs": [],
   "source": [
    "# Decrypt the file\n",
    "#decrypt(file, key)"
   ]
  },
  {
   "cell_type": "code",
   "execution_count": null,
   "id": "entertaining-substance",
   "metadata": {},
   "outputs": [],
   "source": []
  }
 ],
 "metadata": {
  "kernelspec": {
   "display_name": "Python3.7",
   "language": "python",
   "name": "python3.7"
  },
  "language_info": {
   "codemirror_mode": {
    "name": "ipython",
    "version": 3
   },
   "file_extension": ".py",
   "mimetype": "text/x-python",
   "name": "python",
   "nbconvert_exporter": "python",
   "pygments_lexer": "ipython3",
   "version": "3.7.3"
  }
 },
 "nbformat": 4,
 "nbformat_minor": 5
}
