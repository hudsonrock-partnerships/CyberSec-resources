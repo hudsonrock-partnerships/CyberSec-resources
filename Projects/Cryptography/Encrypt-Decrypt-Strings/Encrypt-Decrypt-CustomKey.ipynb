{
 "cells": [
  {
   "cell_type": "markdown",
   "id": "rolled-warner",
   "metadata": {},
   "source": [
    "## Encryption with Key generated from Password\n",
    "\n",
    "Source: https://nitratine.net/blog/post/encryption-and-decryption-in-python/"
   ]
  },
  {
   "cell_type": "markdown",
   "id": "artistic-philippines",
   "metadata": {},
   "source": [
    "### Generating a Key From A Password"
   ]
  },
  {
   "cell_type": "code",
   "execution_count": 1,
   "id": "british-toilet",
   "metadata": {},
   "outputs": [
    {
     "name": "stdout",
     "output_type": "stream",
     "text": [
      "Your password: Pas$worD\n"
     ]
    }
   ],
   "source": [
    "# Load libraries\n",
    "import base64, os\n",
    "from cryptography.hazmat.backends import default_backend\n",
    "from cryptography.hazmat.primitives import hashes\n",
    "from cryptography.hazmat.primitives.kdf.pbkdf2 import PBKDF2HMAC\n",
    "from cryptography.fernet import Fernet\n",
    "\n",
    "# This is input in the form of a string\n",
    "password_provided = input('Your password: ')  # E.g.: \"pas$worD\"\n",
    "\n",
    "# Convert to type bytes\n",
    "password = password_provided.encode()\n",
    "\n",
    "# b'salt_' must be of type bytes  \n",
    "salt = os.urandom(16)\n",
    "\n",
    "kdf = PBKDF2HMAC(\n",
    "    algorithm=hashes.SHA256(),\n",
    "    length=32,\n",
    "    salt=salt,\n",
    "    iterations=200000,  # Default: 100000\n",
    "    backend=default_backend()\n",
    ")\n",
    "\n",
    "key = base64.urlsafe_b64encode(kdf.derive(password))  # Can only use kdf once\n",
    "\n",
    "# Save the Key (store somewhere safe)\n",
    "with open(\"key.key\", \"wb\") as key_file:\n",
    "    key_file.write(key)"
   ]
  },
  {
   "cell_type": "markdown",
   "id": "agreed-little",
   "metadata": {},
   "source": [
    "### Encrypting"
   ]
  },
  {
   "cell_type": "code",
   "execution_count": 2,
   "id": "conservative-missouri",
   "metadata": {},
   "outputs": [],
   "source": [
    "def load_key():\n",
    "    \"\"\"\n",
    "    Loads the key from the current directory named `key.key`\n",
    "    \"\"\"\n",
    "    return open(\"key.key\", \"rb\").read()"
   ]
  },
  {
   "cell_type": "code",
   "execution_count": 3,
   "id": "damaged-thumbnail",
   "metadata": {},
   "outputs": [
    {
     "name": "stdout",
     "output_type": "stream",
     "text": [
      "Your secret message: This is a very important and secret message! Keep it safe!\n",
      "b'gAAAAABgBLA6Ge28ImJpWpmtGSwRtxYUzuyXsSiAB6Lk-_YwSbvMHjCI9gxcOwRFGw4r1Dks34isyVZRBvmXMuob6XCSnB1lOKsfv2DiS6kBSYb84rgDF9Dbxrls64PqrUE3fn63cE7OAlqmQsfGp17qkvctwOHhgQ=='\n"
     ]
    }
   ],
   "source": [
    "message = input(\"Your secret message: \").encode()\n",
    "\n",
    "# Load the key\n",
    "key = load_key()\n",
    "f = Fernet(key)\n",
    "\n",
    "# Encrypt the bytes. The returning object is of type bytes\n",
    "encrypted = f.encrypt(message)\n",
    "\n",
    "print(encrypted)"
   ]
  },
  {
   "cell_type": "markdown",
   "id": "correct-shock",
   "metadata": {},
   "source": [
    "### Decrypting"
   ]
  },
  {
   "cell_type": "code",
   "execution_count": 4,
   "id": "entertaining-substance",
   "metadata": {},
   "outputs": [
    {
     "name": "stdout",
     "output_type": "stream",
     "text": [
      "Encrypted string: gAAAAABgBLA6Ge28ImJpWpmtGSwRtxYUzuyXsSiAB6Lk-_YwSbvMHjCI9gxcOwRFGw4r1Dks34isyVZRBvmXMuob6XCSnB1lOKsfv2DiS6kBSYb84rgDF9Dbxrls64PqrUE3fn63cE7OAlqmQsfGp17qkvctwOHhgQ==\n",
      "\n",
      "Valid Key - Successfully decrypted\n",
      "\n",
      "b'This is a very important and secret message! Keep it safe!'\n"
     ]
    }
   ],
   "source": [
    "encrypted = input(\"Encrypted string: \")\n",
    "encrypted = bytes(encrypted, encoding='utf8')\n",
    "\n",
    "# Load the key\n",
    "key = load_key()\n",
    "f = Fernet(key)\n",
    "\n",
    "try:\n",
    "    # Decrypt the bytes. The returning object is of type bytes\n",
    "    decrypted = f.decrypt(encrypted)\n",
    "    print(\"\\nValid Key - Successfully decrypted\\n\")\n",
    "    print(decrypted)\n",
    "\n",
    "# Catch any InvalidToken exceptions if the correct key was not provided\n",
    "except InvalidToken as e:\n",
    "    print(\"Invalid Key - Unsuccessfully decrypted\")"
   ]
  },
  {
   "cell_type": "code",
   "execution_count": null,
   "id": "patent-delaware",
   "metadata": {},
   "outputs": [],
   "source": []
  }
 ],
 "metadata": {
  "kernelspec": {
   "display_name": "Python3.7",
   "language": "python",
   "name": "python3.7"
  },
  "language_info": {
   "codemirror_mode": {
    "name": "ipython",
    "version": 3
   },
   "file_extension": ".py",
   "mimetype": "text/x-python",
   "name": "python",
   "nbconvert_exporter": "python",
   "pygments_lexer": "ipython3",
   "version": "3.7.3"
  }
 },
 "nbformat": 4,
 "nbformat_minor": 5
}
