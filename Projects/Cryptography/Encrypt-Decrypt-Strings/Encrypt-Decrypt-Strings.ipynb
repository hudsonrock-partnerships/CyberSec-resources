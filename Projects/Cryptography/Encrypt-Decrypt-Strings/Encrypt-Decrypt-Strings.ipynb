{
 "cells": [
  {
   "cell_type": "markdown",
   "id": "marine-atlas",
   "metadata": {},
   "source": [
    "## String Encryption"
   ]
  },
  {
   "cell_type": "code",
   "execution_count": 1,
   "id": "informational-olive",
   "metadata": {},
   "outputs": [],
   "source": [
    "from cryptography.fernet import Fernet\n",
    "\n",
    "def write_key():\n",
    "    \"\"\"\n",
    "    Generates a key and save it into a file\n",
    "    \"\"\"\n",
    "    key = Fernet.generate_key()\n",
    "    with open(\"key.key\", \"wb\") as key_file:\n",
    "        key_file.write(key)\n",
    "        \n",
    "def load_key():\n",
    "    \"\"\"\n",
    "    Loads the key from the current directory named `key.key`\n",
    "    \"\"\"\n",
    "    return open(\"key.key\", \"rb\").read()"
   ]
  },
  {
   "cell_type": "code",
   "execution_count": 2,
   "id": "swedish-discharge",
   "metadata": {},
   "outputs": [
    {
     "name": "stdout",
     "output_type": "stream",
     "text": [
      "Secret Message: This is a very special secret message.\n",
      "b'gAAAAABgBKhOAozL5q9bcNE4Md9WthHcuCbr5PvIocNTQBHBw4j-u68QtWWySJizNrdrzDAdtVzpb1S-FSPc3Dn8yFc_0OXPCsiRnYDbuHBCpKrkOzZMBCbTchjHkg3tCcIMwPrVMNsi'\n"
     ]
    }
   ],
   "source": [
    "# generate and write a new key\n",
    "write_key()\n",
    "\n",
    "# load the previously generated key\n",
    "key = load_key()\n",
    "\n",
    "secret_message = input('Secret Message: ')\n",
    "message = secret_message.encode()\n",
    "\n",
    "# initialize the Fernet class\n",
    "f = Fernet(key)\n",
    "\n",
    "# encrypt the message\n",
    "encrypted = f.encrypt(message)\n",
    "\n",
    "# Save encrypted string as TXT file\n",
    "with open(\"secret.txt\", \"w\") as text_file:\n",
    "    x = str(encrypted)[2:-1]\n",
    "    print(\"Message: {}\".format(x), file = text_file)\n",
    "    \n",
    "# print how it looks\n",
    "print(encrypted)"
   ]
  },
  {
   "cell_type": "code",
   "execution_count": 3,
   "id": "british-thread",
   "metadata": {},
   "outputs": [
    {
     "name": "stdout",
     "output_type": "stream",
     "text": [
      "b'This is a very special secret message.'\n"
     ]
    }
   ],
   "source": [
    "decrypted_encrypted = f.decrypt(encrypted)\n",
    "\n",
    "print(decrypted_encrypted)"
   ]
  },
  {
   "cell_type": "code",
   "execution_count": null,
   "id": "original-xerox",
   "metadata": {},
   "outputs": [],
   "source": []
  }
 ],
 "metadata": {
  "kernelspec": {
   "display_name": "Python3.7",
   "language": "python",
   "name": "python3.7"
  },
  "language_info": {
   "codemirror_mode": {
    "name": "ipython",
    "version": 3
   },
   "file_extension": ".py",
   "mimetype": "text/x-python",
   "name": "python",
   "nbconvert_exporter": "python",
   "pygments_lexer": "ipython3",
   "version": "3.7.3"
  }
 },
 "nbformat": 4,
 "nbformat_minor": 5
}
