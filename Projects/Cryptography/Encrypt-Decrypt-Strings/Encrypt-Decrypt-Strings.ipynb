{
 "cells": [
  {
   "cell_type": "markdown",
   "id": "marine-atlas",
   "metadata": {},
   "source": [
    "## String Encryption"
   ]
  },
  {
   "cell_type": "code",
   "execution_count": null,
   "id": "informational-olive",
   "metadata": {},
   "outputs": [],
   "source": [
    "from cryptography.fernet import Fernet\n",
    "\n",
    "def write_key():\n",
    "    \"\"\"\n",
    "    Generates a key and save it into a file\n",
    "    \"\"\"\n",
    "    key = Fernet.generate_key()\n",
    "    with open(\"key.key\", \"wb\") as key_file:\n",
    "        key_file.write(key)\n",
    "        \n",
    "def load_key():\n",
    "    \"\"\"\n",
    "    Loads the key from the current directory named `key.key`\n",
    "    \"\"\"\n",
    "    return open(\"key.key\", \"rb\").read()"
   ]
  },
  {
   "cell_type": "code",
   "execution_count": null,
   "id": "swedish-discharge",
   "metadata": {},
   "outputs": [],
   "source": [
    "# generate and write a new key\n",
    "write_key()\n",
    "\n",
    "# load the previously generated key\n",
    "key = load_key()\n",
    "\n",
    "message = \"some secret message\".encode()\n",
    "\n",
    "# initialize the Fernet class\n",
    "f = Fernet(key)\n",
    "\n",
    "# encrypt the message\n",
    "encrypted = f.encrypt(message)\n",
    "\n",
    "# print how it looks\n",
    "print(encrypted)"
   ]
  },
  {
   "cell_type": "code",
   "execution_count": null,
   "id": "british-thread",
   "metadata": {},
   "outputs": [],
   "source": [
    "decrypted_encrypted = f.decrypt(encrypted)\n",
    "\n",
    "print(decrypted_encrypted)"
   ]
  }
 ],
 "metadata": {
  "kernelspec": {
   "display_name": "Python3.7",
   "language": "python",
   "name": "python3.7"
  },
  "language_info": {
   "codemirror_mode": {
    "name": "ipython",
    "version": 3
   },
   "file_extension": ".py",
   "mimetype": "text/x-python",
   "name": "python",
   "nbconvert_exporter": "python",
   "pygments_lexer": "ipython3",
   "version": "3.7.3"
  }
 },
 "nbformat": 4,
 "nbformat_minor": 5
}
