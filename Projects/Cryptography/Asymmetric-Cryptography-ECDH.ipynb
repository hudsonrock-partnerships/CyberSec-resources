{
 "cells": [
  {
   "cell_type": "markdown",
   "id": "miniature-defeat",
   "metadata": {},
   "source": [
    "## Asymmetric Cryptography\n",
    "\n",
    "More info: https://github.com/alexmgr/tinyec"
   ]
  },
  {
   "cell_type": "markdown",
   "id": "particular-juice",
   "metadata": {},
   "source": [
    "## Registry\n",
    "Elliptic-Curve Diffie-Hellman (ECDH) Key Exchange"
   ]
  },
  {
   "cell_type": "code",
   "execution_count": 1,
   "id": "following-instrumentation",
   "metadata": {},
   "outputs": [],
   "source": [
    "# Importing necessary modules\n",
    "from tinyec import registry\n",
    "import secrets"
   ]
  },
  {
   "cell_type": "code",
   "execution_count": 2,
   "id": "academic-above",
   "metadata": {},
   "outputs": [],
   "source": [
    "# Getting the 'brainpoolP256r1' curve from the registry \n",
    "curve = registry.get_curve('brainpoolP256r1')"
   ]
  },
  {
   "cell_type": "code",
   "execution_count": 3,
   "id": "abstract-journal",
   "metadata": {},
   "outputs": [],
   "source": [
    "def compress(pubKey):\n",
    "    return hex(pubKey.x) + hex(pubKey.y % 2)[2:]"
   ]
  },
  {
   "cell_type": "markdown",
   "id": "advanced-contemporary",
   "metadata": {},
   "source": [
    "### Generating Private Keys"
   ]
  },
  {
   "cell_type": "code",
   "execution_count": 4,
   "id": "australian-colleague",
   "metadata": {},
   "outputs": [
    {
     "name": "stdout",
     "output_type": "stream",
     "text": [
      "Alice's private key:  2964006587303036042817841926699248083294931531082062889076141140878690715572\n",
      "\n",
      "************************************************************\n",
      "\n",
      "Bob's private key:  54894156910797685589199381457378836911646810079898602261753888393942748806016\n"
     ]
    }
   ],
   "source": [
    "# Generating Alice's private \n",
    "alice_privatekey = secrets.randbelow(curve.field.n)\n",
    "print(\"Alice's private key: \", alice_privatekey)\n",
    "\n",
    "print('\\n'+'***'*20+'\\n')\n",
    "\n",
    "# Generating Bob's private key\n",
    "bob_privatekey = secrets.randbelow(curve.field.n)\n",
    "print(\"Bob's private key: \", bob_privatekey)"
   ]
  },
  {
   "cell_type": "markdown",
   "id": "exposed-compiler",
   "metadata": {},
   "source": [
    "### Generating Public Keys"
   ]
  },
  {
   "cell_type": "code",
   "execution_count": 5,
   "id": "accompanied-football",
   "metadata": {},
   "outputs": [
    {
     "name": "stdout",
     "output_type": "stream",
     "text": [
      "Alice's public key:  (7965163621592756303380806558376229984089761003754628987605451368705658455217, 12481624616579408749774130452865080783482719539341583632709825475711757359047) on \"brainpoolP256r1\" => y^2 = x^3 + 56698187605326110043627228396178346077120614539475214109386828188763884139993x + 17577232497321838841075697789794520262950426058923084567046852300633325438902 (mod 76884956397045344220809746629001649093037950200943055203735601445031516197751)\n",
      "\n",
      "************************************************************\n",
      "\n",
      "Bob's public key:  (54352677517728492282404728220806477619883274639218258433497452449506164533973, 61638496820423296152786822181297459685034851671348489132478035827581252562182) on \"brainpoolP256r1\" => y^2 = x^3 + 56698187605326110043627228396178346077120614539475214109386828188763884139993x + 17577232497321838841075697789794520262950426058923084567046852300633325438902 (mod 76884956397045344220809746629001649093037950200943055203735601445031516197751)\n"
     ]
    }
   ],
   "source": [
    "# Generate Alice's publickey from her private key and Generator point\n",
    "alice_publickey = alice_privatekey * curve.g\n",
    "print(\"Alice's public key: \", alice_publickey)  # compress(alice_publickey)\n",
    "\n",
    "print('\\n'+'***'*20+'\\n')\n",
    "\n",
    "# Generate Bob's publickey from his private key and Generator point\n",
    "bob_publickey = bob_privatekey * curve.g\n",
    "print(\"Bob's public key: \", bob_publickey)  # compress(bob_publickey)"
   ]
  },
  {
   "cell_type": "markdown",
   "id": "featured-taylor",
   "metadata": {},
   "source": [
    "### Generate Shared-Keys"
   ]
  },
  {
   "cell_type": "code",
   "execution_count": 6,
   "id": "fundamental-incentive",
   "metadata": {},
   "outputs": [
    {
     "name": "stdout",
     "output_type": "stream",
     "text": [
      "Alice's shared secret key:  (74356174117108866019583550533269517987952227934698256551320634242071947191031, 43017340892550325796253942788115364051082501472385406145213532433022861242908) on \"brainpoolP256r1\" => y^2 = x^3 + 56698187605326110043627228396178346077120614539475214109386828188763884139993x + 17577232497321838841075697789794520262950426058923084567046852300633325438902 (mod 76884956397045344220809746629001649093037950200943055203735601445031516197751)\n",
      "\n",
      "************************************************************\n",
      "\n",
      "Bob's shared secret key:  (74356174117108866019583550533269517987952227934698256551320634242071947191031, 43017340892550325796253942788115364051082501472385406145213532433022861242908) on \"brainpoolP256r1\" => y^2 = x^3 + 56698187605326110043627228396178346077120614539475214109386828188763884139993x + 17577232497321838841075697789794520262950426058923084567046852300633325438902 (mod 76884956397045344220809746629001649093037950200943055203735601445031516197751)\n"
     ]
    }
   ],
   "source": [
    "# The shared key with Alice\n",
    "alice_sharedkey = alice_privatekey*bob_publickey\n",
    "print(\"Alice's shared secret key: \", alice_sharedkey)  # compress(alice_sharedkey)\n",
    "\n",
    "print('\\n'+'***'*20+'\\n')\n",
    "\n",
    "# The shared key with Bob\n",
    "bob_sharedkey = bob_privatekey*alice_publickey\n",
    "print(\"Bob's shared secret key: \", bob_sharedkey)  # compress(bob_sharedkey)"
   ]
  },
  {
   "cell_type": "markdown",
   "id": "based-hometown",
   "metadata": {},
   "source": [
    "### Match Keys\n",
    "The generated shared secret is a 257-bit integer (compressed EC point for 256-bit curve, encoded as 65 hex digits)"
   ]
  },
  {
   "cell_type": "code",
   "execution_count": 7,
   "id": "guided-amino",
   "metadata": {},
   "outputs": [
    {
     "name": "stdout",
     "output_type": "stream",
     "text": [
      "Shared secret keys match each other!\n"
     ]
    }
   ],
   "source": [
    "try:\n",
    "    alice_sharedkey == bob_sharedkey\n",
    "    print(\"Shared secret keys match each other!\")\n",
    "except:\n",
    "    print(\"Shared secret keys DO NOT match each other.\")"
   ]
  },
  {
   "cell_type": "markdown",
   "id": "forbidden-kennedy",
   "metadata": {},
   "source": [
    "### Derive a secret key from the shared key"
   ]
  },
  {
   "cell_type": "code",
   "execution_count": 8,
   "id": "interim-affair",
   "metadata": {},
   "outputs": [
    {
     "name": "stdout",
     "output_type": "stream",
     "text": [
      "b\":\\xc6\\xc9\\xd1\\x16u\\x01\\xb0H\\xdd\\r\\xaflE\\xba\\xdd\\xd0&c\\x11-$\\xbb'NR8C]4m|\"\n"
     ]
    }
   ],
   "source": [
    "# symmetric_key_from_ECDH.py\n",
    "import hashlib\n",
    "\n",
    "# Convert the x & y components to bytes of length 32\n",
    "x_component = int.to_bytes(alice_sharedkey.x, 32, 'big')\n",
    "y_component = int.to_bytes(alice_sharedkey.y, 32, 'big')\n",
    "\n",
    "# Create a SHA3_256 class\n",
    "sha3_key = hashlib.sha3_256()\n",
    "\n",
    "# Update the hash object with x_component\n",
    "sha3_key.update(x_component)\n",
    "\n",
    "# Concatenate the y_component with x_component in the hash object\n",
    "sha3_key.update(y_component)\n",
    "\n",
    "# Derive the key\n",
    "secret_key = sha3_key.digest()\n",
    "print(secret_key)"
   ]
  },
  {
   "cell_type": "code",
   "execution_count": null,
   "id": "biological-weapon",
   "metadata": {},
   "outputs": [],
   "source": []
  }
 ],
 "metadata": {
  "kernelspec": {
   "display_name": "Python3.7",
   "language": "python",
   "name": "python3.7"
  },
  "language_info": {
   "codemirror_mode": {
    "name": "ipython",
    "version": 3
   },
   "file_extension": ".py",
   "mimetype": "text/x-python",
   "name": "python",
   "nbconvert_exporter": "python",
   "pygments_lexer": "ipython3",
   "version": "3.7.3"
  }
 },
 "nbformat": 4,
 "nbformat_minor": 5
}
