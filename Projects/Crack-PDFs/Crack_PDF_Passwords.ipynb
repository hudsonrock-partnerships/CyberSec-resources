{
 "cells": [
  {
   "cell_type": "markdown",
   "id": "checked-playback",
   "metadata": {},
   "source": [
    "## Import Library"
   ]
  },
  {
   "cell_type": "code",
   "execution_count": 1,
   "id": "reliable-genealogy",
   "metadata": {},
   "outputs": [],
   "source": [
    "# pip install pikepdf\n",
    "import pikepdf         # Read and write PDFs\n",
    "# pip install tqdm\n",
    "from tqdm import tqdm  # ProgressBar\n",
    "# Interacting with the OS \n",
    "import os"
   ]
  },
  {
   "cell_type": "markdown",
   "id": "loose-individual",
   "metadata": {},
   "source": [
    "## Select PDF"
   ]
  },
  {
   "cell_type": "code",
   "execution_count": 2,
   "id": "orange-sacrifice",
   "metadata": {},
   "outputs": [],
   "source": [
    "homedir = os.environ['HOME']\n",
    "\n",
    "pdffile = homedir + \"/Desktop/bescheinigung.pdf\""
   ]
  },
  {
   "cell_type": "markdown",
   "id": "overall-classification",
   "metadata": {},
   "source": [
    "## Create/Open Password Dictionary"
   ]
  },
  {
   "cell_type": "code",
   "execution_count": 3,
   "id": "rolled-vegetation",
   "metadata": {},
   "outputs": [],
   "source": [
    "# Set parameters\n",
    "lower_limit = 81000\n",
    "upper_limit = 81600 # 81599\n",
    "\n",
    "year_lower_limit = 1985\n",
    "year_upper_limit = 1998 # 1997\n",
    "\n",
    "month_lower_limit = 1\n",
    "month_upper_limit = 10 # 9\n",
    "\n",
    "day_lower_limit = 10\n",
    "day_upper_limit = 31 # 30"
   ]
  },
  {
   "cell_type": "code",
   "execution_count": 4,
   "id": "minimal-myrtle",
   "metadata": {},
   "outputs": [],
   "source": [
    "# Create list\n",
    "pw_list = []\n",
    "\n",
    "for i in range(lower_limit, upper_limit):\n",
    "    for a in range (year_lower_limit, year_upper_limit):\n",
    "        for b in range(month_lower_limit, month_upper_limit):\n",
    "            for c in range(day_lower_limit, day_upper_limit):\n",
    "                new_i = str(c) + \".0\" + str(b) + \".\" + str(a) + \".\" + str(i)\n",
    "                pw_list.append(new_i)"
   ]
  },
  {
   "cell_type": "code",
   "execution_count": 5,
   "id": "public-sport",
   "metadata": {},
   "outputs": [
    {
     "data": {
      "text/plain": [
       "['21.03.1985.81000',\n",
       " '22.03.1985.81000',\n",
       " '23.03.1985.81000',\n",
       " '24.03.1985.81000',\n",
       " '25.03.1985.81000',\n",
       " '26.03.1985.81000']"
      ]
     },
     "execution_count": 5,
     "metadata": {},
     "output_type": "execute_result"
    }
   ],
   "source": [
    "# Preview\n",
    "pw_list[53:59]"
   ]
  },
  {
   "cell_type": "code",
   "execution_count": 6,
   "id": "english-level",
   "metadata": {},
   "outputs": [
    {
     "data": {
      "text/plain": [
       "1474200"
      ]
     },
     "execution_count": 6,
     "metadata": {},
     "output_type": "execute_result"
    }
   ],
   "source": [
    "# Total amount of potential passwords\n",
    "len(pw_list)"
   ]
  },
  {
   "cell_type": "markdown",
   "id": "legislative-malta",
   "metadata": {},
   "source": [
    "## Run through the Dictionary"
   ]
  },
  {
   "cell_type": "code",
   "execution_count": null,
   "id": "signed-camera",
   "metadata": {},
   "outputs": [
    {
     "name": "stderr",
     "output_type": "stream",
     "text": [
      "  2%|▏         | 34092/1474200 [00:42<29:32, 812.62it/s]"
     ]
    }
   ],
   "source": [
    "for password in tqdm(pw_list):\n",
    "    try:\n",
    "        with pikepdf.open(pdffile, password.strip()) as pdf:\n",
    "            print(\"Password found: {}\".format(password))\n",
    "            break\n",
    "    except:\n",
    "        #print(\"Trying... {}\".format(password))\n",
    "        continue"
   ]
  },
  {
   "cell_type": "code",
   "execution_count": null,
   "id": "young-edmonton",
   "metadata": {},
   "outputs": [],
   "source": []
  }
 ],
 "metadata": {
  "kernelspec": {
   "display_name": "Python 3.7",
   "language": "python",
   "name": "python3"
  },
  "language_info": {
   "codemirror_mode": {
    "name": "ipython",
    "version": 3
   },
   "file_extension": ".py",
   "mimetype": "text/x-python",
   "name": "python",
   "nbconvert_exporter": "python",
   "pygments_lexer": "ipython3",
   "version": "3.7.0"
  }
 },
 "nbformat": 4,
 "nbformat_minor": 5
}
