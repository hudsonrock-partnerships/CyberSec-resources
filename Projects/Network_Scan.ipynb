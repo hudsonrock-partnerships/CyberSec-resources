{
 "cells": [
  {
   "cell_type": "code",
   "execution_count": 41,
   "metadata": {},
   "outputs": [
    {
     "name": "stdout",
     "output_type": "stream",
     "text": [
      "no response from 192.168.1.101\n",
      "no response from 192.168.1.102\n",
      "no response from 192.168.1.103\n",
      "no response from 192.168.1.104\n",
      "no response from 192.168.1.105\n",
      "no response from 192.168.1.106\n",
      "no response from 192.168.1.107\n",
      "no response from 192.168.1.108\n",
      "no response from 192.168.1.109\n",
      "no response from 192.168.1.110\n",
      "no response from 192.168.1.111\n",
      "no response from 192.168.1.112\n",
      "no response from 192.168.1.113\n",
      "no response from 192.168.1.114\n",
      "no response from 192.168.1.115\n",
      "no response from 192.168.1.116\n",
      "no response from 192.168.1.117\n",
      "no response from 192.168.1.118\n",
      "no response from 192.168.1.119\n",
      "no response from 192.168.1.120\n",
      "no response from 192.168.1.121\n",
      "no response from 192.168.1.122\n",
      "no response from 192.168.1.123\n",
      "no response from 192.168.1.124\n",
      "no response from 192.168.1.125\n",
      "no response from 192.168.1.126\n",
      "no response from 192.168.1.127\n",
      "no response from 192.168.1.128\n",
      "no response from 192.168.1.129\n",
      "no response from 192.168.1.130\n",
      "no response from 192.168.1.131\n",
      "no response from 192.168.1.132\n",
      "ping to 192.168.1.133 OK\n",
      "no response from 192.168.1.134\n"
     ]
    }
   ],
   "source": [
    "import subprocess \n",
    "\n",
    "IP_start = 101   # 192.168.1.101\n",
    "IP_end = 135     # 192.168.1.135\n",
    "\n",
    "for ping in range(IP_start,IP_end): \n",
    "    address = \"192.168.1.\" + str(ping) \n",
    "    res = subprocess.call(['ping', '-c', '3', address]) \n",
    "    if res == 0: \n",
    "        print( \"ping to\", address, \"OK\") \n",
    "    elif res == 2: \n",
    "        print(\"no response from\", address) \n",
    "    else: \n",
    "        print(\"ping to\", address, \"failed!\") "
   ]
  },
  {
   "cell_type": "code",
   "execution_count": null,
   "metadata": {},
   "outputs": [],
   "source": []
  }
 ],
 "metadata": {
  "kernelspec": {
   "display_name": "Python 3",
   "language": "python",
   "name": "python3"
  },
  "language_info": {
   "codemirror_mode": {
    "name": "ipython",
    "version": 3
   },
   "file_extension": ".py",
   "mimetype": "text/x-python",
   "name": "python",
   "nbconvert_exporter": "python",
   "pygments_lexer": "ipython3",
   "version": "3.7.6"
  }
 },
 "nbformat": 4,
 "nbformat_minor": 4
}
